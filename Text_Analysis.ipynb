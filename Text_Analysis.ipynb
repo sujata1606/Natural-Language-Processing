{
  "nbformat": 4,
  "nbformat_minor": 0,
  "metadata": {
    "colab": {
      "name": "Text Analysis.ipynb",
      "provenance": [],
      "authorship_tag": "ABX9TyONEgf6LBEzIy0YQNZQwcCR",
      "include_colab_link": true
    },
    "kernelspec": {
      "name": "python3",
      "display_name": "Python 3"
    },
    "language_info": {
      "name": "python"
    }
  },
  "cells": [
    {
      "cell_type": "markdown",
      "metadata": {
        "id": "view-in-github",
        "colab_type": "text"
      },
      "source": [
        "<a href=\"https://colab.research.google.com/github/sujata1606/Data-Science-Practice/blob/main/Text_Analysis.ipynb\" target=\"_parent\"><img src=\"https://colab.research.google.com/assets/colab-badge.svg\" alt=\"Open In Colab\"/></a>"
      ]
    },
    {
      "cell_type": "code",
      "metadata": {
        "colab": {
          "base_uri": "https://localhost:8080/"
        },
        "id": "wtd1Y6urVewM",
        "outputId": "1f6296b2-9e08-4292-fabe-a38d022b0211"
      },
      "source": [
        "import nltk\n",
        "nltk.download('punkt')\n",
        "nltk.download('stopwords')"
      ],
      "execution_count": 11,
      "outputs": [
        {
          "output_type": "stream",
          "text": [
            "[nltk_data] Downloading package punkt to /root/nltk_data...\n",
            "[nltk_data]   Package punkt is already up-to-date!\n",
            "[nltk_data] Downloading package stopwords to /root/nltk_data...\n",
            "[nltk_data]   Unzipping corpora/stopwords.zip.\n"
          ],
          "name": "stdout"
        },
        {
          "output_type": "execute_result",
          "data": {
            "text/plain": [
              "True"
            ]
          },
          "metadata": {
            "tags": []
          },
          "execution_count": 11
        }
      ]
    },
    {
      "cell_type": "code",
      "metadata": {
        "id": "7VrBYKzaU_Wi"
      },
      "source": [
        "from nltk.tokenize import word_tokenize\n",
        "from nltk.text import Text"
      ],
      "execution_count": 6,
      "outputs": []
    },
    {
      "cell_type": "code",
      "metadata": {
        "colab": {
          "base_uri": "https://localhost:8080/"
        },
        "id": "BaSR35GMVMRu",
        "outputId": "d5c6628a-f0a9-4051-b52c-c2d3caece8e6"
      },
      "source": [
        "my_string = \"Two plus two is four, minus one that's three — quick maths. Every day man's on the block. Smoke trees. See your girl in the park, that girl is an uckers. When the thing went quack quack quack, your men were ducking! Hold tight Asznee, my brother. He's got a pumpy. Hold tight my man, my guy. He's got a frisbee. I trap, trap, trap on the phone. Moving that cornflakes, rice crispies. Hold tight my girl Whitney.\"\n",
        "tokens = word_tokenize(my_string)\n",
        "tokens = [word.lower() for word in tokens]\n",
        "tokens[:5]"
      ],
      "execution_count": 7,
      "outputs": [
        {
          "output_type": "execute_result",
          "data": {
            "text/plain": [
              "['two', 'plus', 'two', 'is', 'four']"
            ]
          },
          "metadata": {
            "tags": []
          },
          "execution_count": 7
        }
      ]
    },
    {
      "cell_type": "code",
      "metadata": {
        "colab": {
          "base_uri": "https://localhost:8080/"
        },
        "id": "yaQqWbZLVZYj",
        "outputId": "4feedc8c-5ca4-4131-f7cd-0cf28e5b0c9a"
      },
      "source": [
        "t = Text(tokens)\n",
        "t"
      ],
      "execution_count": 8,
      "outputs": [
        {
          "output_type": "execute_result",
          "data": {
            "text/plain": [
              "<Text: two plus two is four , minus one...>"
            ]
          },
          "metadata": {
            "tags": []
          },
          "execution_count": 8
        }
      ]
    },
    {
      "cell_type": "code",
      "metadata": {
        "colab": {
          "base_uri": "https://localhost:8080/"
        },
        "id": "xn9jKAVaVmml",
        "outputId": "699fb642-f7cb-4458-caa6-27f4cba3d2fd"
      },
      "source": [
        "# concordance() is a method of the Text class of NLTK. It finds words and displays a context window. Word matching is not case-sensitive.\n",
        "t.concordance('uckers')"
      ],
      "execution_count": 9,
      "outputs": [
        {
          "output_type": "stream",
          "text": [
            "Displaying 1 of 1 matches:\n",
            " girl in the park , that girl is an uckers . when the thing went quack quack q\n"
          ],
          "name": "stdout"
        }
      ]
    },
    {
      "cell_type": "code",
      "metadata": {
        "colab": {
          "base_uri": "https://localhost:8080/"
        },
        "id": "2AaEcwJxVpYy",
        "outputId": "1a9a97fb-229a-4bf5-f97c-9ed74a781998"
      },
      "source": [
        "t.collocations()"
      ],
      "execution_count": 12,
      "outputs": [
        {
          "output_type": "stream",
          "text": [
            "hold tight; quack quack\n"
          ],
          "name": "stdout"
        }
      ]
    },
    {
      "cell_type": "code",
      "metadata": {
        "colab": {
          "base_uri": "https://localhost:8080/"
        },
        "id": "1kPuxPjMVy6k",
        "outputId": "bcfc483c-340b-4e9c-f0a8-f3f723a810eb"
      },
      "source": [
        "t.count('quack')"
      ],
      "execution_count": 13,
      "outputs": [
        {
          "output_type": "execute_result",
          "data": {
            "text/plain": [
              "3"
            ]
          },
          "metadata": {
            "tags": []
          },
          "execution_count": 13
        }
      ]
    },
    {
      "cell_type": "code",
      "metadata": {
        "colab": {
          "base_uri": "https://localhost:8080/"
        },
        "id": "oZLwwZGkWBve",
        "outputId": "26cbe794-01c9-44d6-c5ee-bef248aff636"
      },
      "source": [
        "t.index('two')"
      ],
      "execution_count": 14,
      "outputs": [
        {
          "output_type": "execute_result",
          "data": {
            "text/plain": [
              "0"
            ]
          },
          "metadata": {
            "tags": []
          },
          "execution_count": 14
        }
      ]
    },
    {
      "cell_type": "code",
      "metadata": {
        "colab": {
          "base_uri": "https://localhost:8080/"
        },
        "id": "f21B4AIvWD7n",
        "outputId": "f7a8e6ed-caf9-4d82-8fe2-b1a4ef88e1f0"
      },
      "source": [
        "# find other words which appear in the same contexts as the specified word; list most similar words first.\n",
        "t.similar('brother')"
      ],
      "execution_count": 15,
      "outputs": [
        {
          "output_type": "stream",
          "text": [
            "guy\n"
          ],
          "name": "stdout"
        }
      ]
    },
    {
      "cell_type": "code",
      "metadata": {
        "colab": {
          "base_uri": "https://localhost:8080/",
          "height": 295
        },
        "id": "xIZd0AlhWGuq",
        "outputId": "0983e03b-5721-431c-fb4e-0042dac68717"
      },
      "source": [
        "# Reveals patterns in word positions. Each stripe represents an instance of a word, and each row represents the entire text.\n",
        "t.dispersion_plot(['man', 'thing', 'quack'])"
      ],
      "execution_count": 16,
      "outputs": [
        {
          "output_type": "display_data",
          "data": {
            "image/png": "[encoded data removed]",
            "text/plain": [
              "<Figure size 432x288 with 1 Axes>"
            ]
          },
          "metadata": {
            "tags": [],
            "needs_background": "light"
          }
        }
      ]
    },
    {
      "cell_type": "code",
      "metadata": {
        "colab": {
          "base_uri": "https://localhost:8080/",
          "height": 299
        },
        "id": "eyAsLhcHWPDu",
        "outputId": "afe4f6ae-9352-4974-cdcc-367315818fec"
      },
      "source": [
        "# plots 20 most common tokens\n",
        "t.plot(20)"
      ],
      "execution_count": 17,
      "outputs": [
        {
          "output_type": "display_data",
          "data": {
            "image/png": "[encoded data removed]",
            "text/plain": [
              "<Figure size 432x288 with 1 Axes>"
            ]
          },
          "metadata": {
            "tags": [],
            "needs_background": "light"
          }
        }
      ]
    },
    {
      "cell_type": "code",
      "metadata": {
        "colab": {
          "base_uri": "https://localhost:8080/"
        },
        "id": "wUOx0CYQWUcx",
        "outputId": "938cccd7-d904-46b0-af24-2c3b1a1d69e3"
      },
      "source": [
        "t.vocab()"
      ],
      "execution_count": 18,
      "outputs": [
        {
          "output_type": "execute_result",
          "data": {
            "text/plain": [
              "FreqDist({'!': 1,\n",
              "          \"'s\": 4,\n",
              "          ',': 8,\n",
              "          '.': 11,\n",
              "          'a': 2,\n",
              "          'an': 1,\n",
              "          'asznee': 1,\n",
              "          'block': 1,\n",
              "          'brother': 1,\n",
              "          'cornflakes': 1,\n",
              "          'crispies': 1,\n",
              "          'day': 1,\n",
              "          'ducking': 1,\n",
              "          'every': 1,\n",
              "          'four': 1,\n",
              "          'frisbee': 1,\n",
              "          'girl': 3,\n",
              "          'got': 2,\n",
              "          'guy': 1,\n",
              "          'he': 2,\n",
              "          'hold': 3,\n",
              "          'i': 1,\n",
              "          'in': 1,\n",
              "          'is': 2,\n",
              "          'man': 2,\n",
              "          'maths': 1,\n",
              "          'men': 1,\n",
              "          'minus': 1,\n",
              "          'moving': 1,\n",
              "          'my': 4,\n",
              "          'on': 2,\n",
              "          'one': 1,\n",
              "          'park': 1,\n",
              "          'phone': 1,\n",
              "          'plus': 1,\n",
              "          'pumpy': 1,\n",
              "          'quack': 3,\n",
              "          'quick': 1,\n",
              "          'rice': 1,\n",
              "          'see': 1,\n",
              "          'smoke': 1,\n",
              "          'that': 3,\n",
              "          'the': 4,\n",
              "          'thing': 1,\n",
              "          'three': 1,\n",
              "          'tight': 3,\n",
              "          'trap': 3,\n",
              "          'trees': 1,\n",
              "          'two': 2,\n",
              "          'uckers': 1,\n",
              "          'went': 1,\n",
              "          'were': 1,\n",
              "          'when': 1,\n",
              "          'whitney': 1,\n",
              "          'your': 2,\n",
              "          '—': 1})"
            ]
          },
          "metadata": {
            "tags": []
          },
          "execution_count": 18
        }
      ]
    },
    {
      "cell_type": "code",
      "metadata": {
        "id": "3PYTBAZKWf2B"
      },
      "source": [
        ""
      ],
      "execution_count": null,
      "outputs": []
    }
  ]
}